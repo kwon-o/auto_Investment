{
 "cells": [
  {
   "cell_type": "code",
   "execution_count": 16,
   "metadata": {},
   "outputs": [],
   "source": [
    "import requests\n",
    "import json\n",
    "import urllib.request\n",
    "import datetime\n",
    "import pandas as pd\n",
    "from selenium import webdriver\n",
    "from bs4 import BeautifulSoup"
   ]
  },
  {
   "cell_type": "code",
   "execution_count": 13,
   "metadata": {},
   "outputs": [],
   "source": [
    "\n",
    "with open(r'C:\\Users\\KOJ\\PycharmProjects\\untitled\\GitMaster\\auto_Investment\\auth.json', 'r') as f:\n",
    "    auth = json.load(f)\n",
    "\n",
    "loginURL = \"https://s20.si0.kabu.co.jp/members/\"\n",
    "driver = webdriver.Chrome(\n",
    "    executable_path=r'C:\\Users\\KOJ\\PycharmProjects\\untitled\\GitMaster\\auto_Investment\\chromedriver')\n",
    "driver.get(loginURL)\n",
    "driver.find_element_by_name('SsLogonUser').send_keys(auth['id'])\n",
    "driver.find_element_by_name('SsLogonPassword').send_keys(auth['APIPassword'])\n",
    "driver.find_element_by_id('image1').click()\n",
    "\n",
    "s = requests.Session()\n",
    "for cookie in driver.get_cookies():\n",
    "    s.cookies.set(cookie['name'], cookie['value'])\n",
    "\n",
    "cashCheckURL = \"https://s20.si0.kabu.co.jp/ap/PC/Assets/Kanougaku/Stock\"\n",
    "result = s.get(cashCheckURL).text\n",
    "    "
   ]
  },
  {
   "cell_type": "code",
   "execution_count": 17,
   "metadata": {},
   "outputs": [],
   "source": [
    "soup = BeautifulSoup(result, \"html.parser\")\n",
    "table = soup.find_all(\"table\", class_=\"table1\")"
   ]
  },
  {
   "cell_type": "code",
   "execution_count": 22,
   "metadata": {},
   "outputs": [],
   "source": [
    "df = pd.read_html(str(table))[0]"
   ]
  },
  {
   "cell_type": "code",
   "execution_count": 27,
   "metadata": {},
   "outputs": [
    {
     "data": {
      "text/plain": [
       "100000"
      ]
     },
     "execution_count": 27,
     "metadata": {},
     "output_type": "execute_result"
    }
   ],
   "source": [
    "df[1][1]"
   ]
  },
  {
   "cell_type": "code",
   "execution_count": null,
   "metadata": {},
   "outputs": [],
   "source": []
  }
 ],
 "metadata": {
  "kernelspec": {
   "display_name": "Python 3",
   "language": "python",
   "name": "python3"
  },
  "language_info": {
   "codemirror_mode": {
    "name": "ipython",
    "version": 3
   },
   "file_extension": ".py",
   "mimetype": "text/x-python",
   "name": "python",
   "nbconvert_exporter": "python",
   "pygments_lexer": "ipython3",
   "version": "3.7.6"
  }
 },
 "nbformat": 4,
 "nbformat_minor": 4
}
