{
 "cells": [
  {
   "cell_type": "code",
   "execution_count": 1,
   "metadata": {},
   "outputs": [],
   "source": [
    "import pandas as pd\n",
    "import numpy as np\n",
    "import json\n",
    "import requests\n",
    "from selenium import webdriver\n",
    "from bs4 import BeautifulSoup\n",
    "from lxml import html"
   ]
  },
  {
   "cell_type": "code",
   "execution_count": 2,
   "metadata": {},
   "outputs": [],
   "source": [
    "headers = {'User-Agent': 'Mozilla/5.0 (Windows NT 10.0; Win64; x64) AppleWebKit/537.36 (KHTML, like Gecko) Chrome/89.0.4389.72 Safari/537.36 Edg/89.0.774.45'}\n",
    "source = requests.get(\"https://kabuoji3.com/stock/1305/\", headers=headers).text\n",
    "soup = BeautifulSoup(source, \"html.parser\")\n",
    "table = soup.find_all(\"tbody\")\n"
   ]
  },
  {
   "cell_type": "code",
   "execution_count": 24,
   "metadata": {},
   "outputs": [
    {
     "name": "stdout",
     "output_type": "stream",
     "text": [
      "[<tbody>\n",
      "<tr>\n",
      "<td>2021-03-09</td>\n",
      "<td>2004</td>\n",
      "<td>2019</td>\n",
      "<td>1993</td>\n",
      "<td>2018</td>\n",
      "<td>342760</td>\n",
      "<td>2018</td>\n",
      "</tr>\n",
      "</tbody>, <tbody>\n",
      "<tr>\n",
      "<td>2020-06-30</td>\n",
      "<td>1674</td>\n",
      "<td>1675</td>\n",
      "<td>1653</td>\n",
      "<td>1653</td>\n",
      "<td>13350</td>\n",
      "<td>1653</td>\n",
      "</tr>\n",
      "</tbody>]\n"
     ]
    }
   ],
   "source": [
    "print(table)"
   ]
  },
  {
   "cell_type": "code",
   "execution_count": 3,
   "metadata": {},
   "outputs": [],
   "source": [
    "driver = webdriver.Chrome(\n",
    "    executable_path=r'C:\\Users\\KOJ\\PycharmProjects\\untitled\\GitMaster\\auto_Investment\\chromedriver')\n",
    "driver.get(\"https://kabuoji3.com/stock/1305/\")\n",
    "source = driver.page_source\n",
    "soup = BeautifulSoup(source, 'html.parser')\n",
    "table = soup.find_all(\"table\", class_='stock_table stock_data_table')\n",
    "df = pd.read_html(str(table), header=0)"
   ]
  },
  {
   "cell_type": "code",
   "execution_count": 30,
   "metadata": {},
   "outputs": [
    {
     "name": "stdout",
     "output_type": "stream",
     "text": [
      "             日付    始値    高値    安値    終値     出来高  終値調整\n",
      "0    2021-03-09  2004  2019  1993  2018  342760  2018\n",
      "1    2021-03-03  1999  2005  1990  2004  179760  2004\n",
      "2    2021-02-26  1997  1997  1953  1953  523910  1953\n",
      "3    2021-02-24  2031  2034  2001  2001   45260  2001\n",
      "4    2021-02-12  2039  2040  2028  2031   59500  2031\n",
      "..          ...   ...   ...   ...   ...     ...   ...\n",
      "146  2020-07-07  1674  1679  1666  1672   97870  1672\n",
      "147  2020-07-06  1654  1678  1654  1677   63840  1677\n",
      "148  2020-07-03  1649  1652  1639  1649   32180  1649\n",
      "149  2020-07-02  1644  1650  1635  1639   83860  1639\n",
      "150  2020-07-01  1659  1660  1632  1635  553730  1635\n",
      "\n",
      "[151 rows x 7 columns]\n"
     ]
    }
   ],
   "source": [
    "print(df[0])"
   ]
  },
  {
   "cell_type": "code",
   "execution_count": 4,
   "metadata": {},
   "outputs": [
    {
     "data": {
      "text/plain": [
       "2"
      ]
     },
     "execution_count": 4,
     "metadata": {},
     "output_type": "execute_result"
    }
   ],
   "source": [
    "len(df)"
   ]
  },
  {
   "cell_type": "code",
   "execution_count": 32,
   "metadata": {},
   "outputs": [],
   "source": [
    "result = pd.concat([df[0], df[1]])"
   ]
  },
  {
   "cell_type": "code",
   "execution_count": 33,
   "metadata": {},
   "outputs": [
    {
     "name": "stdout",
     "output_type": "stream",
     "text": [
      "             日付    始値    高値    安値    終値     出来高  終値調整\n",
      "0    2021-03-09  2004  2019  1993  2018  342760  2018\n",
      "1    2021-03-03  1999  2005  1990  2004  179760  2004\n",
      "2    2021-02-26  1997  1997  1953  1953  523910  1953\n",
      "3    2021-02-24  2031  2034  2001  2001   45260  2001\n",
      "4    2021-02-12  2039  2040  2028  2031   59500  2031\n",
      "..          ...   ...   ...   ...   ...     ...   ...\n",
      "144  2019-11-25  1786  1789  1783  1786   83690  1786\n",
      "145  2019-11-22  1772  1781  1771  1772   49880  1772\n",
      "146  2019-11-21  1767  1773  1747  1770  244080  1770\n",
      "147  2019-11-20  1772  1780  1766  1772   67770  1772\n",
      "148  2019-11-19  1777  1783  1774  1778   29100  1778\n",
      "\n",
      "[300 rows x 7 columns]\n"
     ]
    }
   ],
   "source": [
    "print(result)"
   ]
  },
  {
   "cell_type": "code",
   "execution_count": 34,
   "metadata": {},
   "outputs": [],
   "source": [
    "result = result.drop(\"終値調整\", axis=1)\n",
    "result = result.rename(columns={'日付':'Date', '始値':'Open', '高値':'High', '安値':'Low', '終値':'Close', '出来高':'Volume'})"
   ]
  },
  {
   "cell_type": "code",
   "execution_count": 35,
   "metadata": {},
   "outputs": [
    {
     "name": "stdout",
     "output_type": "stream",
     "text": [
      "           Date  Open  High   Low  Close  Volume\n",
      "0    2021-03-09  2004  2019  1993   2018  342760\n",
      "1    2021-03-03  1999  2005  1990   2004  179760\n",
      "2    2021-02-26  1997  1997  1953   1953  523910\n",
      "3    2021-02-24  2031  2034  2001   2001   45260\n",
      "4    2021-02-12  2039  2040  2028   2031   59500\n",
      "..          ...   ...   ...   ...    ...     ...\n",
      "144  2019-11-25  1786  1789  1783   1786   83690\n",
      "145  2019-11-22  1772  1781  1771   1772   49880\n",
      "146  2019-11-21  1767  1773  1747   1770  244080\n",
      "147  2019-11-20  1772  1780  1766   1772   67770\n",
      "148  2019-11-19  1777  1783  1774   1778   29100\n",
      "\n",
      "[300 rows x 6 columns]\n"
     ]
    }
   ],
   "source": [
    "print(result)"
   ]
  },
  {
   "cell_type": "code",
   "execution_count": null,
   "metadata": {},
   "outputs": [],
   "source": []
  },
  {
   "cell_type": "code",
   "execution_count": 88,
   "metadata": {},
   "outputs": [],
   "source": [
    "s = requests.Session()\n",
    "for cookie in driver.get_cookies():\n",
    "    s.cookies.set(cookie['name'], cookie['value'])"
   ]
  },
  {
   "cell_type": "code",
   "execution_count": 89,
   "metadata": {},
   "outputs": [],
   "source": [
    "ETF_Link = pd.read_csv('ETF_link.csv', encoding='utf-8')"
   ]
  },
  {
   "cell_type": "code",
   "execution_count": 90,
   "metadata": {},
   "outputs": [],
   "source": [
    "ETF_Link = ETF_Link.values"
   ]
  },
  {
   "cell_type": "code",
   "execution_count": 91,
   "metadata": {},
   "outputs": [],
   "source": [
    "etfNum = ETF_Link[0][0].split('.')[-2].split('=')[-1]\n",
    "timeSeriesLink = \"https://s20.si0.kabu.co.jp/ap/PC/InvInfo/Market/StockDetail/Default?Symbol=\" + etfNum + \"&Exchange=TSE&Category=PRICE_HISTORY\"\n",
    "result = s.get(timeSeriesLink).text\n",
    "soup = BeautifulSoup(result, \"html.parser\")\n",
    "table = soup.find_all(\"table\", class_=\"tb3\")\n",
    "df = pd.read_html(str(table), header=0)[0]\n"
   ]
  },
  {
   "cell_type": "code",
   "execution_count": 92,
   "metadata": {},
   "outputs": [],
   "source": [
    "df = df.drop(\"前日比\", axis=1)\n",
    "df = df.rename(columns={'基準日':'Date', '始値':'Open', '高値':'High', '安値':'Low', '終値':'Close', '出来高':'Volume'})"
   ]
  },
  {
   "cell_type": "code",
   "execution_count": 93,
   "metadata": {},
   "outputs": [],
   "source": [
    "def fix_date(row):\n",
    "    return row.split('(')[0]\n",
    "df['Date'] = df['Date'].apply(fix_date)"
   ]
  },
  {
   "cell_type": "code",
   "execution_count": 94,
   "metadata": {},
   "outputs": [],
   "source": [
    "df = df.replace('--', np.nan)\n",
    "df = df.dropna(axis=0)"
   ]
  },
  {
   "cell_type": "code",
   "execution_count": null,
   "metadata": {},
   "outputs": [],
   "source": []
  },
  {
   "cell_type": "code",
   "execution_count": null,
   "metadata": {},
   "outputs": [],
   "source": []
  },
  {
   "cell_type": "code",
   "execution_count": 95,
   "metadata": {},
   "outputs": [
    {
     "name": "stdout",
     "output_type": "stream",
     "text": [
      "          Date   Open   High    Low  Close Volume\n",
      "0   2021/03/05  13130  13260  13130  13260     69\n",
      "1   2021/03/04  13190  13190  13130  13190     21\n",
      "2   2021/03/03  13120  13190  13120  13190     11\n",
      "3   2021/03/02  13170  13170  13170  13170     10\n",
      "4   2021/03/01  13060  13120  13060  13120      6\n",
      "5   2021/02/26  13210  13210  13060  13060     21\n",
      "6   2021/02/25  13100  13200  13100  13200     88\n",
      "7   2021/02/24  13120  13130  13060  13100    200\n",
      "8   2021/02/22  13090  13160  13090  13140    112\n",
      "9   2021/02/19  13200  13230  13130  13130     20\n",
      "10  2021/02/18  13290  13290  13200  13200     33\n",
      "11  2021/02/17  13230  13290  13210  13290     79\n",
      "12  2021/02/16  13190  13230  13190  13230    327\n",
      "13  2021/02/15  13120  13190  13120  13190     62\n",
      "14  2021/02/12  13110  13150  13110  13110     29\n",
      "15  2021/02/10  13170  13170  13110  13110     62\n",
      "16  2021/02/09  13130  13190  13110  13170     18\n",
      "17  2021/02/08  13040  13140  13040  13140     14\n",
      "18  2021/02/05  13180  13180  13060  13160     40\n",
      "19  2021/02/04  13080  13180  13080  13180      5\n",
      "20  2021/02/03  13060  13170  13060  13170      9\n",
      "21  2021/02/02  13050  13060  13050  13060      3\n",
      "23  2021/01/29  13020  13170  13020  13050     15\n",
      "24  2021/01/28  13080  13080  13010  13020     27\n",
      "25  2021/01/27  13010  13010  13010  13010      3\n",
      "26  2021/01/26  13030  13080  13010  13010     22\n",
      "27  2021/01/25  13050  13070  13030  13030     14\n",
      "28  2021/01/22  12990  13030  12990  12990    203\n",
      "29  2021/01/21  13090  13130  13020  13030    145\n"
     ]
    }
   ],
   "source": [
    "print(df)"
   ]
  },
  {
   "cell_type": "code",
   "execution_count": null,
   "metadata": {},
   "outputs": [],
   "source": []
  },
  {
   "cell_type": "code",
   "execution_count": 60,
   "metadata": {},
   "outputs": [
    {
     "name": "stdout",
     "output_type": "stream",
     "text": [
      "/ap/PC/InvInfo/Market/StockDetail/ListCsv?SymbolCode=1349&SymbolName=%EF%BC%A1%EF%BC%A2%EF%BC%A6%E6%B1%8E%E3%82%A2%E3%82%B8%E3%82%A2%E5%82%B5%E5%88%B8%E3%82%A4%E3%83%B3%E3%83%87%E3%83%83%E3%82%AF%E3%82%B9%E3%83%BB%E3%83%95%E3%82%A1%E3%83%B3%E3%83%89&exchange=TSE&exchangeName=%E6%9D%B1%E4%BA%AC%20ETF%2FETN\n"
     ]
    }
   ],
   "source": []
  },
  {
   "cell_type": "code",
   "execution_count": null,
   "metadata": {},
   "outputs": [],
   "source": []
  }
 ],
 "metadata": {
  "kernelspec": {
   "display_name": "Python 3",
   "language": "python",
   "name": "python3"
  },
  "language_info": {
   "codemirror_mode": {
    "name": "ipython",
    "version": 3
   },
   "file_extension": ".py",
   "mimetype": "text/x-python",
   "name": "python",
   "nbconvert_exporter": "python",
   "pygments_lexer": "ipython3",
   "version": "3.7.6"
  }
 },
 "nbformat": 4,
 "nbformat_minor": 4
}
