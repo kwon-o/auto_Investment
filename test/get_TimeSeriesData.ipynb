{
 "cells": [
  {
   "cell_type": "code",
   "execution_count": 82,
   "metadata": {},
   "outputs": [],
   "source": [
    "import pandas as pd\n",
    "import numpy as np\n",
    "import json\n",
    "import requests\n",
    "from selenium import webdriver\n",
    "from bs4 import BeautifulSoup\n",
    "from lxml import html"
   ]
  },
  {
   "cell_type": "code",
   "execution_count": 87,
   "metadata": {},
   "outputs": [],
   "source": [
    "with open('auth.json', 'r') as f:\n",
    "    auth = json.load(f)\n",
    "\n",
    "url = \"https://s20.si0.kabu.co.jp/members/\"\n",
    "driver = webdriver.Chrome(executable_path=r'C:\\Users\\KOJ\\PycharmProjects\\untitled\\GitMaster\\auto_Investment\\chromedriver')\n",
    "driver.get(url)\n",
    "driver.find_element_by_name('SsLogonUser').send_keys(auth['id'])\n",
    "driver.find_element_by_name('SsLogonPassword').send_keys(auth['APIPassword'])\n",
    "driver.find_element_by_id('image1').click()"
   ]
  },
  {
   "cell_type": "code",
   "execution_count": 88,
   "metadata": {},
   "outputs": [],
   "source": [
    "s = requests.Session()\n",
    "for cookie in driver.get_cookies():\n",
    "    s.cookies.set(cookie['name'], cookie['value'])"
   ]
  },
  {
   "cell_type": "code",
   "execution_count": 89,
   "metadata": {},
   "outputs": [],
   "source": [
    "ETF_Link = pd.read_csv('ETF_link.csv', encoding='utf-8')"
   ]
  },
  {
   "cell_type": "code",
   "execution_count": 90,
   "metadata": {},
   "outputs": [],
   "source": [
    "ETF_Link = ETF_Link.values"
   ]
  },
  {
   "cell_type": "code",
   "execution_count": 91,
   "metadata": {},
   "outputs": [],
   "source": [
    "etfNum = ETF_Link[0][0].split('.')[-2].split('=')[-1]\n",
    "timeSeriesLink = \"https://s20.si0.kabu.co.jp/ap/PC/InvInfo/Market/StockDetail/Default?Symbol=\" + etfNum + \"&Exchange=TSE&Category=PRICE_HISTORY\"\n",
    "result = s.get(timeSeriesLink).text\n",
    "soup = BeautifulSoup(result, \"html.parser\")\n",
    "table = soup.find_all(\"table\", class_=\"tb3\")\n",
    "df = pd.read_html(str(table), header=0)[0]\n"
   ]
  },
  {
   "cell_type": "code",
   "execution_count": 92,
   "metadata": {},
   "outputs": [],
   "source": [
    "df = df.drop(\"前日比\", axis=1)\n",
    "df = df.rename(columns={'基準日':'Date', '始値':'Open', '高値':'High', '安値':'Low', '終値':'Close', '出来高':'Volume'})"
   ]
  },
  {
   "cell_type": "code",
   "execution_count": 93,
   "metadata": {},
   "outputs": [],
   "source": [
    "def fix_date(row):\n",
    "    return row.split('(')[0]\n",
    "df['Date'] = df['Date'].apply(fix_date)"
   ]
  },
  {
   "cell_type": "code",
   "execution_count": 94,
   "metadata": {},
   "outputs": [],
   "source": [
    "df = df.replace('--', np.nan)\n",
    "df = df.dropna(axis=0)"
   ]
  },
  {
   "cell_type": "code",
   "execution_count": null,
   "metadata": {},
   "outputs": [],
   "source": []
  },
  {
   "cell_type": "code",
   "execution_count": null,
   "metadata": {},
   "outputs": [],
   "source": []
  },
  {
   "cell_type": "code",
   "execution_count": 95,
   "metadata": {},
   "outputs": [
    {
     "name": "stdout",
     "output_type": "stream",
     "text": [
      "          Date   Open   High    Low  Close Volume\n",
      "0   2021/03/05  13130  13260  13130  13260     69\n",
      "1   2021/03/04  13190  13190  13130  13190     21\n",
      "2   2021/03/03  13120  13190  13120  13190     11\n",
      "3   2021/03/02  13170  13170  13170  13170     10\n",
      "4   2021/03/01  13060  13120  13060  13120      6\n",
      "5   2021/02/26  13210  13210  13060  13060     21\n",
      "6   2021/02/25  13100  13200  13100  13200     88\n",
      "7   2021/02/24  13120  13130  13060  13100    200\n",
      "8   2021/02/22  13090  13160  13090  13140    112\n",
      "9   2021/02/19  13200  13230  13130  13130     20\n",
      "10  2021/02/18  13290  13290  13200  13200     33\n",
      "11  2021/02/17  13230  13290  13210  13290     79\n",
      "12  2021/02/16  13190  13230  13190  13230    327\n",
      "13  2021/02/15  13120  13190  13120  13190     62\n",
      "14  2021/02/12  13110  13150  13110  13110     29\n",
      "15  2021/02/10  13170  13170  13110  13110     62\n",
      "16  2021/02/09  13130  13190  13110  13170     18\n",
      "17  2021/02/08  13040  13140  13040  13140     14\n",
      "18  2021/02/05  13180  13180  13060  13160     40\n",
      "19  2021/02/04  13080  13180  13080  13180      5\n",
      "20  2021/02/03  13060  13170  13060  13170      9\n",
      "21  2021/02/02  13050  13060  13050  13060      3\n",
      "23  2021/01/29  13020  13170  13020  13050     15\n",
      "24  2021/01/28  13080  13080  13010  13020     27\n",
      "25  2021/01/27  13010  13010  13010  13010      3\n",
      "26  2021/01/26  13030  13080  13010  13010     22\n",
      "27  2021/01/25  13050  13070  13030  13030     14\n",
      "28  2021/01/22  12990  13030  12990  12990    203\n",
      "29  2021/01/21  13090  13130  13020  13030    145\n"
     ]
    }
   ],
   "source": [
    "print(df)"
   ]
  },
  {
   "cell_type": "code",
   "execution_count": null,
   "metadata": {},
   "outputs": [],
   "source": []
  },
  {
   "cell_type": "code",
   "execution_count": 60,
   "metadata": {},
   "outputs": [
    {
     "name": "stdout",
     "output_type": "stream",
     "text": [
      "/ap/PC/InvInfo/Market/StockDetail/ListCsv?SymbolCode=1349&SymbolName=%EF%BC%A1%EF%BC%A2%EF%BC%A6%E6%B1%8E%E3%82%A2%E3%82%B8%E3%82%A2%E5%82%B5%E5%88%B8%E3%82%A4%E3%83%B3%E3%83%87%E3%83%83%E3%82%AF%E3%82%B9%E3%83%BB%E3%83%95%E3%82%A1%E3%83%B3%E3%83%89&exchange=TSE&exchangeName=%E6%9D%B1%E4%BA%AC%20ETF%2FETN\n"
     ]
    }
   ],
   "source": []
  },
  {
   "cell_type": "code",
   "execution_count": null,
   "metadata": {},
   "outputs": [],
   "source": []
  }
 ],
 "metadata": {
  "kernelspec": {
   "display_name": "Python 3",
   "language": "python",
   "name": "python3"
  },
  "language_info": {
   "codemirror_mode": {
    "name": "ipython",
    "version": 3
   },
   "file_extension": ".py",
   "mimetype": "text/x-python",
   "name": "python",
   "nbconvert_exporter": "python",
   "pygments_lexer": "ipython3",
   "version": "3.7.6"
  }
 },
 "nbformat": 4,
 "nbformat_minor": 4
}
